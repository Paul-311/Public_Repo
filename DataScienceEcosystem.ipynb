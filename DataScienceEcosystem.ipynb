{
 "cells": [
  {
   "cell_type": "markdown",
   "id": "00302f20-26ba-42b3-8c98-6f633832ed63",
   "metadata": {},
   "source": [
    "# Data Science Tools and Ecosystems"
   ]
  },
  {
   "cell_type": "markdown",
   "id": "755f457a-37e8-4079-b168-5ad62042c90f",
   "metadata": {},
   "source": [
    "##### In This notebook, Data Science Tools and Ecosystems are summarized."
   ]
  },
  {
   "cell_type": "markdown",
   "id": "c620ca74-1cce-4f5a-979d-146346324eaf",
   "metadata": {
    "jp-MarkdownHeadingCollapsed": true
   },
   "source": [
    "##### **Objectives:**\n",
    "* List popular languages for Data Science.\n",
    "* Create a Jupyter notebook.\n",
    "* Share your notebook through GitHub\n",
    "* List R libraries for Data Science\n",
    "* List R data visualization packages"
   ]
  },
  {
   "cell_type": "markdown",
   "id": "a946d0c9-5c63-40c4-aef7-bcb266075e69",
   "metadata": {},
   "source": [
    "##### Some of the popular languages that Data Scientists use are:"
   ]
  },
  {
   "cell_type": "markdown",
   "id": "0b69a034-c17b-494f-8f2a-dca358e7bc3e",
   "metadata": {},
   "source": [
    "1. Python\n",
    "2. R\n",
    "3. SQL"
   ]
  },
  {
   "cell_type": "markdown",
   "id": "4e0c9235-cf27-483f-85c3-9667698e88a8",
   "metadata": {},
   "source": [
    "##### Some of the most commonly used libraries used by Data Scientists include:"
   ]
  },
  {
   "cell_type": "markdown",
   "id": "128285e5-5831-46ad-ae3e-2883cb2d029f",
   "metadata": {},
   "source": [
    "1. Dplyr    (Data Manipulation)\n",
    "2. Stringr  (String Manipulation)\n",
    "3. Ggplot   (Data Visualization)\n",
    "4. Caret    (Machine Learning)"
   ]
  },
  {
   "cell_type": "markdown",
   "id": "b955975f-e8c2-460d-b1f7-5f3a6bbf3f0b",
   "metadata": {},
   "source": [
    "| Data Science Tools |\n",
    "------------------------\n",
    "|Jupiter Notebooks|\n",
    "| RStudio |\n",
    "|GitHub|"
   ]
  },
  {
   "cell_type": "markdown",
   "id": "05b19174-d810-4c76-a460-eba759549aed",
   "metadata": {},
   "source": [
    "### Below are a few examples of evaluating arithmetic expressions in Python"
   ]
  },
  {
   "cell_type": "code",
   "execution_count": 10,
   "id": "4a28c6a7-1174-4c51-85dd-d0de1452b178",
   "metadata": {},
   "outputs": [
    {
     "name": "stdout",
     "output_type": "stream",
     "text": [
      "6\n"
     ]
    }
   ],
   "source": [
    "x=2\n",
    "y=4\n",
    "z=x+y\n",
    "print(z)"
   ]
  },
  {
   "cell_type": "markdown",
   "id": "98a5ab32-351a-45af-a272-285e4687afdb",
   "metadata": {},
   "source": [
    "##### This is a simple arithmetic expression to multiply then add integers"
   ]
  },
  {
   "cell_type": "code",
   "execution_count": 11,
   "id": "4fa2caca-50c2-4504-a485-df16ec44a09e",
   "metadata": {
    "scrolled": true
   },
   "outputs": [
    {
     "data": {
      "text/plain": [
       "17"
      ]
     },
     "execution_count": 11,
     "metadata": {},
     "output_type": "execute_result"
    }
   ],
   "source": [
    "(3*4)+5"
   ]
  },
  {
   "cell_type": "markdown",
   "id": "15cb2ba5-e776-4098-aa1c-e50d74a02d3b",
   "metadata": {},
   "source": [
    "##### This will convert 200 minutes to hours by dividing by 60"
   ]
  },
  {
   "cell_type": "code",
   "execution_count": 12,
   "id": "49a2771d-caaa-41e1-8208-a154cd252cd7",
   "metadata": {},
   "outputs": [
    {
     "data": {
      "text/plain": [
       "3.3333333333333335"
      ]
     },
     "execution_count": 12,
     "metadata": {},
     "output_type": "execute_result"
    }
   ],
   "source": [
    "200/60"
   ]
  },
  {
   "cell_type": "markdown",
   "id": "d7d36e02-198e-433f-befe-0522fbb5c2c0",
   "metadata": {},
   "source": [
    "## Author\n",
    "##### Paul Gamarra"
   ]
  },
  {
   "cell_type": "markdown",
   "id": "4cf06713-63ae-413e-bd3f-41a01d7ef2d9",
   "metadata": {},
   "source": []
  }
 ],
 "metadata": {
  "kernelspec": {
   "display_name": "Python 3 (ipykernel)",
   "language": "python",
   "name": "python3"
  },
  "language_info": {
   "codemirror_mode": {
    "name": "ipython",
    "version": 3
   },
   "file_extension": ".py",
   "mimetype": "text/x-python",
   "name": "python",
   "nbconvert_exporter": "python",
   "pygments_lexer": "ipython3",
   "version": "3.11.9"
  }
 },
 "nbformat": 4,
 "nbformat_minor": 5
}
